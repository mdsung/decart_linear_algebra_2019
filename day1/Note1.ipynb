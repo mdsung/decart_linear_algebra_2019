{
 "cells": [
  {
   "cell_type": "markdown",
   "metadata": {},
   "source": [
    "# Assume that a matrix is a list of lists and so each row is a list"
   ]
  },
  {
   "cell_type": "code",
   "execution_count": 1,
   "metadata": {},
   "outputs": [],
   "source": [
    "def alpha_x_row(alpha, row):\n",
    "    return [alpha*r for r in row]"
   ]
  },
  {
   "cell_type": "code",
   "execution_count": 2,
   "metadata": {},
   "outputs": [
    {
     "data": {
      "text/plain": [
       "[3, 9, 15]"
      ]
     },
     "execution_count": 2,
     "metadata": {},
     "output_type": "execute_result"
    }
   ],
   "source": [
    "alpha_x_row(3,[1,3,5])\n"
   ]
  },
  {
   "cell_type": "code",
   "execution_count": 3,
   "metadata": {},
   "outputs": [],
   "source": [
    "def r1_plus_r2(r1, r2):\n",
    "    assert len(r1) == len(r2)\n",
    "    return [r1[i]+r2[i] for i in range(len(r2))]"
   ]
  },
  {
   "cell_type": "code",
   "execution_count": 4,
   "metadata": {},
   "outputs": [
    {
     "data": {
      "text/plain": [
       "[5, 7, 9]"
      ]
     },
     "execution_count": 4,
     "metadata": {},
     "output_type": "execute_result"
    }
   ],
   "source": [
    "r1_plus_r2([1,2,3], [4,5,6])"
   ]
  },
  {
   "cell_type": "code",
   "execution_count": 5,
   "metadata": {},
   "outputs": [
    {
     "data": {
      "text/plain": [
       "[[1, 5, 7], [-2, -7, -5]]"
      ]
     },
     "execution_count": 5,
     "metadata": {},
     "output_type": "execute_result"
    }
   ],
   "source": [
    "A = [[1,5,7],[-2,-7,-5]]\n",
    "A"
   ]
  },
  {
   "cell_type": "code",
   "execution_count": 6,
   "metadata": {},
   "outputs": [],
   "source": [
    "def all_zeros(m, c):\n",
    "    for row in m:\n",
    "        if row[c] != 0:\n",
    "            return False\n",
    "        return True"
   ]
  },
  {
   "cell_type": "code",
   "execution_count": 7,
   "metadata": {},
   "outputs": [],
   "source": [
    "def find_arg_maxabs(col):\n",
    "    arg_max = 0\n",
    "    max_val = abs(col[0])\n",
    "    for i in range(1,len(col)):\n",
    "        aci = abs(col[i])\n",
    "        if aci > max_val:\n",
    "            arg_max = i\n",
    "            max_val = aci\n",
    "    return arg_max\n",
    "\n",
    "def find_pivot(m, c):\n",
    "    col = [m[r][c] for r in range(c, len(m))]\n",
    "    pivot_index = find_arg_maxabs(col)\n",
    "    return pivot_index + c\n"
   ]
  },
  {
   "cell_type": "code",
   "execution_count": 8,
   "metadata": {},
   "outputs": [
    {
     "data": {
      "text/plain": [
       "4"
      ]
     },
     "execution_count": 8,
     "metadata": {},
     "output_type": "execute_result"
    }
   ],
   "source": [
    "find_arg_maxabs([3,-2,5,9,11,2])"
   ]
  },
  {
   "cell_type": "code",
   "execution_count": 9,
   "metadata": {},
   "outputs": [
    {
     "data": {
      "text/plain": [
       "1"
      ]
     },
     "execution_count": 9,
     "metadata": {},
     "output_type": "execute_result"
    }
   ],
   "source": [
    "find_pivot([[1,2,3],[4,50,6],[7,8,9]],1)"
   ]
  },
  {
   "cell_type": "code",
   "execution_count": 10,
   "metadata": {},
   "outputs": [],
   "source": [
    "def swap_rows(m, r1, r2):\n",
    "    m2 = [row[:] for row in m]\n",
    "    m2[r1] = m[r2]\n",
    "    m2[r2] = m[r1]\n",
    "    return m2"
   ]
  },
  {
   "cell_type": "code",
   "execution_count": 11,
   "metadata": {},
   "outputs": [
    {
     "data": {
      "text/plain": [
       "[[7, 8, 9], [4, 50, 6], [1, 2, 3]]"
      ]
     },
     "execution_count": 11,
     "metadata": {},
     "output_type": "execute_result"
    }
   ],
   "source": [
    "swap_rows([[1,2,3],[4,50,6],[7,8,9]],2,0)"
   ]
  },
  {
   "cell_type": "code",
   "execution_count": 12,
   "metadata": {},
   "outputs": [],
   "source": [
    "def zero_column(m, c):\n",
    "    m2 = [row[:] for row in m]\n",
    "    pivot_val = m[c][c]\n",
    "    for i in range(c+1, len(m)):\n",
    "        multiplier = -m2[i][c] / pivot_val\n",
    "        m2[i] = r1_plus_r2(m2[i], alpha_x_row(multiplier,m2[c]))\n",
    "    return m2     \n",
    "\n",
    "\n",
    "    "
   ]
  },
  {
   "cell_type": "code",
   "execution_count": 13,
   "metadata": {},
   "outputs": [
    {
     "data": {
      "text/plain": [
       "[[7, -9, 2], [4, 50, 6], [3.56, 8.881784197001252e-16, 2.84]]"
      ]
     },
     "execution_count": 13,
     "metadata": {},
     "output_type": "execute_result"
    }
   ],
   "source": [
    "zero_column([[7,-9,2],[4,50,6],[3,-7,2]], 1)"
   ]
  },
  {
   "cell_type": "code",
   "execution_count": 16,
   "metadata": {},
   "outputs": [],
   "source": [
    "def forward_elimination(m):\n",
    "    m2 = [row[:] for row in m]\n",
    "    for i in range(0,len(m2)):\n",
    "        pivot_position = find_pivot(m2,i)\n",
    "        m2 = swap_rows(m2, pivot_position, i)\n",
    "        m2 = zero_column(m2, i)\n",
    "    return m2\n"
   ]
  },
  {
   "cell_type": "code",
   "execution_count": 17,
   "metadata": {},
   "outputs": [
    {
     "data": {
      "text/plain": [
       "[[-2, -7, -5], [0.0, 1.5, 4.5]]"
      ]
     },
     "execution_count": 17,
     "metadata": {},
     "output_type": "execute_result"
    }
   ],
   "source": [
    "forward_elimination([[1,5,7],[-2,-7,-5]])"
   ]
  },
  {
   "cell_type": "code",
   "execution_count": null,
   "metadata": {},
   "outputs": [],
   "source": []
  }
 ],
 "metadata": {
  "kernelspec": {
   "display_name": "Python 3",
   "language": "python",
   "name": "python3"
  },
  "language_info": {
   "codemirror_mode": {
    "name": "ipython",
    "version": 3
   },
   "file_extension": ".py",
   "mimetype": "text/x-python",
   "name": "python",
   "nbconvert_exporter": "python",
   "pygments_lexer": "ipython3",
   "version": "3.7.3"
  }
 },
 "nbformat": 4,
 "nbformat_minor": 2
}
