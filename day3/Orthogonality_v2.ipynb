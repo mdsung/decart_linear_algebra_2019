{
 "cells": [
  {
   "cell_type": "code",
   "execution_count": 1,
   "metadata": {},
   "outputs": [],
   "source": [
    "%matplotlib inline"
   ]
  },
  {
   "cell_type": "markdown",
   "metadata": {},
   "source": [
    "# Basis Vectors and Orthogonality"
   ]
  },
  {
   "cell_type": "markdown",
   "metadata": {},
   "source": [
    "If the idea of a basis is one of the foundations of linear algebra, then the specialization to an orthogonal basis is not far behind. We need a basis to convert geometric constructions into algebraic calculations, and we need an orthogonal basis to make those calculations simple. There is even a further specialization, which makes the basis just about optimal: The vectors should have length one. That can be achieved, but to do it we have to know\n",
    "\n",
    "1. the length of a vector\n",
    "2. the test for perpendicular vectors\n",
    "3. how to create perpendicular vectors from linearly independent vectors.\n",
    "\n",
    "Gilbert Strang Linear Algebra\n",
    "\n",
    "We have previously addressed two of three features\n",
    "\n",
    "The length of a vector is the norm.\n",
    "The test for perpendicularity is done with the inner product."
   ]
  },
  {
   "cell_type": "markdown",
   "metadata": {},
   "source": [
    "## Example of basis vectors"
   ]
  },
  {
   "cell_type": "markdown",
   "metadata": {},
   "source": [
    "The idea of basis vectors for a vector space is the following: Can linear combinations of a set of vectors be used to reach every point in the vector space?\n",
    "\n",
    "To explore this, we will consider the two-dimension ($\\Re^2$) space of the x-y plane. A pair of basis vectors for this space is \n",
    "\n",
    "\\begin{eqnarray}\n",
    "e_1 = \\begin{bmatrix}\n",
    "\\begin{array}{r{\\quad}1}\n",
    "1 \\\\ 0\n",
    "\\end{array}\n",
    "\\end{bmatrix}, e_2 = \\begin{bmatrix}\n",
    "\\begin{array}{r{\\quad}1}\n",
    "0 \\\\ 1\n",
    "\\end{array}\n",
    "\\end{bmatrix}\n",
    "\\end{eqnarray}\n",
    "\n",
    "These vectors are drawn below. These vectors happen to be **unit vectors** (norm/length of 1) and orthogonal ($\\mathbf{e_2}^T \\mathbf{e_1}=0$)."
   ]
  },
  {
   "cell_type": "code",
   "execution_count": 2,
   "metadata": {},
   "outputs": [],
   "source": [
    "import matplotlib.pyplot as plt\n",
    "import numpy as np"
   ]
  },
  {
   "cell_type": "code",
   "execution_count": 3,
   "metadata": {},
   "outputs": [],
   "source": [
    "from myla.plotting import *"
   ]
  },
  {
   "cell_type": "code",
   "execution_count": 4,
   "metadata": {},
   "outputs": [
    {
     "data": {
      "image/png": "[encoded data removed]",
      "text/plain": [
       "<Figure size 432x288 with 1 Axes>"
      ]
     },
     "metadata": {
      "needs_background": "light"
     },
     "output_type": "display_data"
    }
   ],
   "source": [
    "draw_vectors((1,0, \"red\"),(0,1, \"green\"))"
   ]
  },
  {
   "cell_type": "markdown",
   "metadata": {},
   "source": [
    "You can get to anywhere in the plane by some combination of $\\mathbf{e_1}$ and $\\mathbf{e_2}$, something we probably explored in elementary school. \n",
    "\n",
    "For example, I an get to the point $(15,-3)$ with \n",
    "\n",
    "\\begin{equation}\n",
    "15\\times \\mathbf{e_1} + -3 \\times \\mathbf{e_2}\n",
    "\\end{equation}\n",
    "\n",
    "Our basis functions do not need to be unit vectors. For example, we could have the following basis vectors:\n",
    "\n",
    "\\begin{eqnarray}\n",
    "e_3 = \\begin{bmatrix}\n",
    "\\begin{array}{r{\\quad}1}\n",
    "7 \\\\ 0\n",
    "\\end{array}\n",
    "\\end{bmatrix}, e_4 = \\begin{bmatrix}\n",
    "\\begin{array}{r{\\quad}1}\n",
    "0 \\\\ -2\n",
    "\\end{array}\n",
    "\\end{bmatrix}\n",
    "\\end{eqnarray}"
   ]
  },
  {
   "cell_type": "code",
   "execution_count": 5,
   "metadata": {},
   "outputs": [
    {
     "data": {
      "image/png": "[encoded data removed]",
      "text/plain": [
       "<Figure size 432x288 with 1 Axes>"
      ]
     },
     "metadata": {
      "needs_background": "light"
     },
     "output_type": "display_data"
    }
   ],
   "source": [
    "draw_vectors((7,0, \"red\"),(0,-2, \"green\"))"
   ]
  },
  {
   "cell_type": "markdown",
   "metadata": {},
   "source": [
    "Our arithmetic might get a little more complex, but we can still use $\\mathbf{e_3}$ and $\\mathbf{e_4}$ to get anywhere in the plane. For example to get to get our point $(15,-3)$ we would do the following\n",
    "\n",
    "\\begin{equation}\n",
    "\\frac{15}{7}\\times \\mathbf{e_1} + \\frac{3}{2} \\times \\mathbf{e_2}\n",
    "\\end{equation}"
   ]
  },
  {
   "cell_type": "code",
   "execution_count": 6,
   "metadata": {},
   "outputs": [
    {
     "data": {
      "text/plain": [
       "True"
      ]
     },
     "execution_count": 6,
     "metadata": {},
     "output_type": "execute_result"
    }
   ],
   "source": [
    "isinstance([1,3],(np.ndarray, list, tuple))"
   ]
  },
  {
   "cell_type": "code",
   "execution_count": 7,
   "metadata": {},
   "outputs": [],
   "source": [
    "e_3 = np.array([[7],[0]])\n",
    "e_4 = np.array([[0],[-2]])\n"
   ]
  },
  {
   "cell_type": "markdown",
   "metadata": {},
   "source": [
    "#### Some utility functions"
   ]
  },
  {
   "cell_type": "code",
   "execution_count": 8,
   "metadata": {},
   "outputs": [],
   "source": [
    "def v2l(v):\n",
    "    return [vv[0] for vv in v]\n",
    "a2l = lambda x: x.tolist()\n",
    "m2a = lambda m: np.array(m)[0]\n"
   ]
  },
  {
   "cell_type": "code",
   "execution_count": 9,
   "metadata": {},
   "outputs": [
    {
     "ename": "NameError",
     "evalue": "name 'f2' is not defined",
     "output_type": "error",
     "traceback": [
      "\u001b[0;31m---------------------------------------------------------------------------\u001b[0m",
      "\u001b[0;31mNameError\u001b[0m                                 Traceback (most recent call last)",
      "\u001b[0;32m<ipython-input-9-5ef9117cf97f>\u001b[0m in \u001b[0;36m<module>\u001b[0;34m\u001b[0m\n\u001b[1;32m      1\u001b[0m \u001b[0;34m\u001b[0m\u001b[0m\n\u001b[0;32m----> 2\u001b[0;31m draw_vectors((f2(e_3), \"red\"),\n\u001b[0m\u001b[1;32m      3\u001b[0m              (f2(e_4), \"red\"))\n",
      "\u001b[0;31mNameError\u001b[0m: name 'f2' is not defined"
     ]
    }
   ],
   "source": [
    "\n",
    "draw_vectors((f2(e_3), \"red\"),\n",
    "             (f2(e_4), \"red\"))"
   ]
  },
  {
   "cell_type": "code",
   "execution_count": 10,
   "metadata": {},
   "outputs": [
    {
     "data": {
      "image/png": "[encoded data removed]",
      "text/plain": [
       "<Figure size 432x288 with 1 Axes>"
      ]
     },
     "metadata": {
      "needs_background": "light"
     },
     "output_type": "display_data"
    }
   ],
   "source": [
    "\n",
    "draw_vectors((v2l(e_3), \"red\"),\n",
    "             (v2l(e_4), \"red\"), \n",
    "             (v2l((15/7)*e_3),(0,1,0,0.5), \"g\"), \n",
    "             (v2l((3/2)*e_4), (0,1,0,0.5), \"g\"),\n",
    "             (v2l((15/7)*e_3 + (3/2)*e_4),\"blue\"))"
   ]
  },
  {
   "cell_type": "code",
   "execution_count": 11,
   "metadata": {},
   "outputs": [],
   "source": [
    "v3 = np.matrix([1.0,0.2])\n",
    "v3 = v3/la.norm(v3)\n",
    "v3\n",
    "def unit_vectors(*v):\n",
    "    vs = [np.array(vv)/la.norm(vv) for vv in v]\n",
    "    return vs"
   ]
  },
  {
   "cell_type": "code",
   "execution_count": 12,
   "metadata": {},
   "outputs": [
    {
     "data": {
      "image/png": "[encoded data removed]",
      "text/plain": [
       "<Figure size 432x288 with 1 Axes>"
      ]
     },
     "metadata": {
      "needs_background": "light"
     },
     "output_type": "display_data"
    }
   ],
   "source": [
    "draw_vectors((1,0, \"red\"),(0,1, \"red\"))"
   ]
  },
  {
   "cell_type": "code",
   "execution_count": 13,
   "metadata": {},
   "outputs": [
    {
     "data": {
      "text/plain": [
       "(('red', array([1., 0.])), ('green', array([0.98095245, 0.19424801])), 1)"
      ]
     },
     "execution_count": 13,
     "metadata": {},
     "output_type": "execute_result"
    }
   ],
   "source": [
    "(*(zip([\"red\",\"green\"],unit_vectors((1.01,0.0),(1.01,0.2)))),1)"
   ]
  },
  {
   "cell_type": "code",
   "execution_count": 14,
   "metadata": {},
   "outputs": [
    {
     "data": {
      "image/png": "[encoded data removed]",
      "text/plain": [
       "<Figure size 432x288 with 1 Axes>"
      ]
     },
     "metadata": {
      "needs_background": "light"
     },
     "output_type": "display_data"
    }
   ],
   "source": [
    "draw_vectors(*(zip(map(a2l,unit_vectors((5,0.0),(5.0,0.2))),(\"red\",\"green\"))))"
   ]
  },
  {
   "cell_type": "code",
   "execution_count": 15,
   "metadata": {},
   "outputs": [
    {
     "data": {
      "text/plain": [
       "[array([1., 0.]), array([0.999804 , 0.0197981])]"
      ]
     },
     "execution_count": 15,
     "metadata": {},
     "output_type": "execute_result"
    }
   ],
   "source": [
    "unit_vectors((1.01,0.0),(1.01,0.02))"
   ]
  },
  {
   "cell_type": "code",
   "execution_count": 16,
   "metadata": {},
   "outputs": [
    {
     "data": {
      "text/plain": [
       "(([1.0, 0.0], 'red'), ([0.9992009587217894, 0.03996803834887158], 'green'), 1)"
      ]
     },
     "execution_count": 16,
     "metadata": {},
     "output_type": "execute_result"
    }
   ],
   "source": [
    "(*zip(map(a2l, unit_vectors((5,0.0),(5.0,0.2))),(\"red\",\"green\")),1)"
   ]
  },
  {
   "cell_type": "markdown",
   "metadata": {},
   "source": [
    "## Gram-Schmidt Orthogonalization"
   ]
  },
  {
   "cell_type": "markdown",
   "metadata": {},
   "source": [
    "Orthonormal matrices are nice. They...\n",
    "\n",
    "Gram-Schmidt is a simple algorithm for taking a non-orthonormal matrix ($A$) consisting of linear independent columns and creates an orthonormal version of the matrix ($Q$). The algorithm can be described as follows. Assume that we have an Array $A$ consisting of columns $\\mathbf{a_i}$.\n",
    "\n",
    "\\begin{equation}\n",
    "A=\\begin{bmatrix}\n",
    "\\begin{array}{cccc{\\qquad}1}\n",
    "\\mathbf{a_1} & \\mathbf{a_2} & \\cdots & \\mathbf{a_n}\n",
    "\\end{array}\n",
    "\\end{bmatrix}\n",
    "\\end{equation}\n",
    "\n",
    "\n",
    "1. Pick a column (vector); anyone will do so we might as well pick $\\mathbf{a_{i=0}}$.\n",
    "1. Create a unit vector version of $\\mathbf{a_i}$ ($\\mathbf{q_i}$) by dividing $\\mathbf{a_i}$ by its norm ($\\frac{\\mathbf{a_i}}{||\\mathbf{a_i}||}$)\n",
    "2. Subtract $\\mathbf{q_i}$ from all subsequent vectors $\\mathbf{q_{j>i}}$\n",
    "\\begin{equation}\n",
    "\\mathbf{a_{j_i}^\\prime} = \\mathbf{a_j} - (\\mathbf{q_i}^T \\mathbf{a_j}) \\mathbf{q_i}\n",
    "\\end{equation}\n",
    "3. Increment $i$ and repeat.\n",
    "\n",
    "\n",
    "\n",
    "Thus for any column $j$ we subtract the projection of all columns $i$ ($i < j$), the final process can be expressed as\n",
    "\n",
    "\\begin{eqnarray}\n",
    "\\mathbf{a_j^\\prime} = \\mathbf{a_j} - \\sum_{i=1}^{j-1}(\\mathbf{q_i}^T \\mathbf{a_j}) \\mathbf{q_i}\\\\\n",
    "\\mathbf{q_j} = \\frac{\\mathbf{a_j^\\prime}}{||\\mathbf{a_j^\\prime}||}\n",
    "\\end{eqnarray}"
   ]
  },
  {
   "cell_type": "code",
   "execution_count": 17,
   "metadata": {},
   "outputs": [],
   "source": [
    "def unit_vector(v):\n",
    "    return v/la.norm(v)"
   ]
  },
  {
   "cell_type": "code",
   "execution_count": 18,
   "metadata": {},
   "outputs": [],
   "source": [
    "def subtract_projection(a,q):\n",
    "    \"\"\"\n",
    "    subtract projection of a onto q from a\n",
    "    \"\"\"\n",
    "    return a - float(q.transpose()*a)*q"
   ]
  },
  {
   "cell_type": "code",
   "execution_count": 20,
   "metadata": {},
   "outputs": [],
   "source": [
    "def gram_schmidt(A):\n",
    "    Q = A.copy().astype(np.float64)\n",
    "    n = A.shape[1] ## number of column\n",
    "    for i in range(A.shape[1]):\n",
    "        q = Q[:,i]\n",
    "        q = unit_vector(q)\n",
    "        Q[:,i] = q\n",
    "        for j in range(i+1,n):\n",
    "            Q[:,j] = subtract_projection(Q[:,j],q)\n",
    "        print(Q)\n",
    "        print('-'*42)\n",
    "    return Q"
   ]
  },
  {
   "cell_type": "code",
   "execution_count": 22,
   "metadata": {},
   "outputs": [
    {
     "name": "stdout",
     "output_type": "stream",
     "text": [
      "[[ 0.30151134  2.45454545  2.27272727]\n",
      " [ 0.90453403 -0.63636364  0.81818182]\n",
      " [-0.30151134  0.54545455  4.72727273]]\n",
      "------------------------------------------\n",
      "[[ 0.30151134  0.94634951 -0.51351351]\n",
      " [ 0.90453403 -0.24534987  1.54054054]\n",
      " [-0.30151134  0.21029989  4.10810811]]\n",
      "------------------------------------------\n",
      "[[ 0.30151134  0.94634951 -0.11624764]\n",
      " [ 0.90453403 -0.24534987  0.34874292]\n",
      " [-0.30151134  0.21029989  0.92998111]]\n",
      "------------------------------------------\n"
     ]
    },
    {
     "data": {
      "text/plain": [
       "matrix([[ 0.30151134,  0.94634951, -0.11624764],\n",
       "        [ 0.90453403, -0.24534987,  0.34874292],\n",
       "        [-0.30151134,  0.21029989,  0.92998111]])"
      ]
     },
     "execution_count": 22,
     "metadata": {},
     "output_type": "execute_result"
    }
   ],
   "source": [
    "c = np.matrix([[1,3,2],[3,1,0],[-1,0,5]])\n",
    "c1 = gram_schmidt(c)\n",
    "c1"
   ]
  },
  {
   "cell_type": "code",
   "execution_count": 24,
   "metadata": {},
   "outputs": [
    {
     "name": "stdout",
     "output_type": "stream",
     "text": [
      "[[ 0.5547002   2.30769231]\n",
      " [ 0.83205029 -1.53846154]]\n",
      "------------------------------------------\n",
      "[[ 0.5547002   0.83205029]\n",
      " [ 0.83205029 -0.5547002 ]]\n",
      "------------------------------------------\n"
     ]
    },
    {
     "data": {
      "text/plain": [
       "matrix([[ 0.5547002 ,  0.83205029],\n",
       "        [ 0.83205029, -0.5547002 ]])"
      ]
     },
     "execution_count": 24,
     "metadata": {},
     "output_type": "execute_result"
    }
   ],
   "source": [
    "d = np.matrix([[2,4],[3,1]])\n",
    "d1 = gram_schmidt(d)\n",
    "d1"
   ]
  },
  {
   "cell_type": "code",
   "execution_count": null,
   "metadata": {},
   "outputs": [],
   "source": [
    "draw_vectors((1,0, \"red\"),(0,1, \"red\"))"
   ]
  },
  {
   "cell_type": "markdown",
   "metadata": {},
   "source": [
    "## How would we test our functions?"
   ]
  },
  {
   "cell_type": "code",
   "execution_count": 25,
   "metadata": {},
   "outputs": [],
   "source": [
    "def vinner(v1,v2):\n",
    "    return float(v1.transpose()*v2)"
   ]
  },
  {
   "cell_type": "code",
   "execution_count": 26,
   "metadata": {},
   "outputs": [
    {
     "data": {
      "text/plain": [
       "5.551115123125783e-17"
      ]
     },
     "execution_count": 26,
     "metadata": {},
     "output_type": "execute_result"
    }
   ],
   "source": [
    "vinner(c1[:,0],c1[:,2])"
   ]
  },
  {
   "cell_type": "code",
   "execution_count": 27,
   "metadata": {},
   "outputs": [
    {
     "data": {
      "text/plain": [
       "matrix([[ 1.00000000e+00, -1.38777878e-17,  5.55111512e-17],\n",
       "        [-1.38777878e-17,  1.00000000e+00, -2.77555756e-17],\n",
       "        [ 5.55111512e-17, -2.77555756e-17,  1.00000000e+00]])"
      ]
     },
     "execution_count": 27,
     "metadata": {},
     "output_type": "execute_result"
    }
   ],
   "source": [
    "ctc = c1.transpose()*c1\n",
    "ctc"
   ]
  },
  {
   "cell_type": "code",
   "execution_count": 28,
   "metadata": {},
   "outputs": [
    {
     "data": {
      "text/plain": [
       "3.0"
      ]
     },
     "execution_count": 28,
     "metadata": {},
     "output_type": "execute_result"
    }
   ],
   "source": [
    "np.trace(ctc)"
   ]
  },
  {
   "cell_type": "code",
   "execution_count": 29,
   "metadata": {},
   "outputs": [],
   "source": [
    "from numpy.linalg import norm"
   ]
  },
  {
   "cell_type": "code",
   "execution_count": 31,
   "metadata": {},
   "outputs": [
    {
     "data": {
      "text/plain": [
       "1.4142135623730951"
      ]
     },
     "execution_count": 31,
     "metadata": {},
     "output_type": "execute_result"
    }
   ],
   "source": [
    "norm(c1[:,:2])"
   ]
  },
  {
   "cell_type": "markdown",
   "metadata": {},
   "source": [
    "## QR Factorization"
   ]
  },
  {
   "cell_type": "markdown",
   "metadata": {},
   "source": [
    "What is the relationship between $A$ and $Q$? In other words, what matrix $R$ do we need such that \n",
    "\\begin{equation}\n",
    "A = QR?\n",
    "\\end{equation}\n",
    "\n",
    "\n",
    "Any vector can be expressed as a weighted sum of basis vectors:\n",
    "\n",
    "\\begin{equation}\n",
    "\\mathbf{b} = x_1\\mathbf{q_1}+x_2\\mathbf{q_2}+\\cdots+x_n\\mathbf{q_n}\n",
    "\\end{equation}\n",
    "\n",
    "How do we compute $x_i$?\n",
    "If the basis functions are orthonormal (as we've created in $Q$) and we multiply both sides by $\\mathbf{q_i}^T$ we get\n",
    "\n",
    "\n",
    "\\begin{equation}\n",
    "\\mathbf{q_i}^T\\mathbf{b} = \\mathbf{q_i}^Tx_1\\mathbf{q_1}+\\mathbf{q_i}^Tx_2\\mathbf{q_2}+\\cdots+\\mathbf{q_i}^Tx_n\\mathbf{q_n}\n",
    "\\end{equation}\n",
    "\n",
    "\n",
    "But since $Q$ is orthonormal \n",
    "\n",
    "\\begin{equation}\n",
    "  \\mathbf{q_i}^T\\mathbf{q_j} =\n",
    "  \\begin{cases}\n",
    "    1 & \\text{if $i = j$} \\\\\n",
    "    0 & \\text{otherwise}\n",
    "  \\end{cases}\n",
    "\\end{equation}\n",
    "\n",
    "\\begin{equation}\n",
    "\\mathbf{q_i}^T\\mathbf{b} = x_i\n",
    "\\end{equation}\n",
    "\n",
    "So any vector $\\mathbf{b}$ can be expressed as\n",
    "\n",
    "\\begin{equation}\n",
    "\\mathbf{b} = (\\mathbf{q_1}^T\\mathbf{b})\\mathbf{q_1}+(\\mathbf{q_2}^T\\mathbf{b})\\mathbf{q_2}+\\cdots+(\\mathbf{q_n}^T\\mathbf{b})\\mathbf{q_n}\n",
    "\\end{equation}\n",
    "\n",
    "Based on this we can reconstruct the columns of $A$ from $Q$ by\n",
    "\n",
    "\\begin{equation}\n",
    "\\mathbf{a_i} = \\sum_{j=1}^{j < i}\\mathbf{q_j}^T\\mathbf{a_i}\n",
    "\\end{equation}\n",
    "\n",
    "What does this look like in matrix form? It is multiplication of $Q$ by an upper right triangular matrix $R$\n",
    "\n",
    "\\begin{equation}\n",
    "A=QR = \\begin{bmatrix}\n",
    "\\begin{array}{cccc{\\qquad}1}\n",
    "\\mathbf{q_1} & \\mathbf{q_2} & \\cdots & \\mathbf{q_n}\n",
    "\\end{array}\n",
    "\\end{bmatrix}\n",
    "\\begin{bmatrix}\n",
    "\\begin{array}{cccc{\\qquad}1}\n",
    "\\mathbf{q_1}^T\\mathbf{a_1} & \\mathbf{q_1}^T\\mathbf{a_2} & \\cdots & \\mathbf{q_1}^T\\mathbf{a_n}\\\\\n",
    "0 & \\mathbf{q_2}^T\\mathbf{a_2} & \\cdots & \\mathbf{q_2}^T\\mathbf{a_n}\\\\\n",
    "\\vdots& \\vdots & \\vdots & \\vdots \\\\\n",
    "0 & 0 & 0 & \\mathbf{q_n}^T\\mathbf{a_n}\n",
    "\\end{array}\n",
    "\\end{bmatrix}\n",
    "\\end{equation}"
   ]
  },
  {
   "cell_type": "markdown",
   "metadata": {},
   "source": []
  },
  {
   "cell_type": "code",
   "execution_count": null,
   "metadata": {},
   "outputs": [],
   "source": [
    "import ipyvolume as ipv\n",
    "import numpy as np\n",
    "x, y, z, u, v, w = np.random.random((6, 1000))*2-1\n",
    "selected = np.random.randint(0, 1000, 100)\n",
    "ipv.figure()\n",
    "quiver = ipv.quiver(x, y, z, u, v, w, size=5, size_selected=8, selected=selected)\n",
    "\n",
    "from ipywidgets import FloatSlider, ColorPicker, VBox, jslink\n",
    "size = FloatSlider(min=0, max=30, step=0.1)\n",
    "size_selected = FloatSlider(min=0, max=30, step=0.1)\n",
    "color = ColorPicker()\n",
    "color_selected = ColorPicker()\n",
    "jslink((quiver, 'size'), (size, 'value'))\n",
    "jslink((quiver, 'size_selected'), (size_selected, 'value'))\n",
    "jslink((quiver, 'color'), (color, 'value'))\n",
    "jslink((quiver, 'color_selected'), (color_selected, 'value'))\n",
    "VBox([ipv.gcc(), size, size_selected, color, color_selected])"
   ]
  },
  {
   "cell_type": "code",
   "execution_count": null,
   "metadata": {},
   "outputs": [],
   "source": [
    "%matplotlib"
   ]
  },
  {
   "cell_type": "code",
   "execution_count": null,
   "metadata": {},
   "outputs": [],
   "source": []
  }
 ],
 "metadata": {
  "@webio": {
   "lastCommId": null,
   "lastKernelId": null
  },
  "kernelspec": {
   "display_name": "Python 3",
   "language": "python",
   "name": "python3"
  },
  "language_info": {
   "codemirror_mode": {
    "name": "ipython",
    "version": 3
   },
   "file_extension": ".py",
   "mimetype": "text/x-python",
   "name": "python",
   "nbconvert_exporter": "python",
   "pygments_lexer": "ipython3",
   "version": "3.7.3"
  },
  "latex_envs": {
   "LaTeX_envs_menu_present": true,
   "autoclose": false,
   "autocomplete": true,
   "bibliofile": "biblio.bib",
   "cite_by": "apalike",
   "current_citInitial": 1,
   "eqLabelWithNumbers": true,
   "eqNumInitial": 1,
   "hotkeys": {
    "equation": "Ctrl-E",
    "itemize": "Ctrl-I"
   },
   "labels_anchors": false,
   "latex_user_defs": false,
   "report_style_numbering": false,
   "user_envs_cfg": false
  }
 },
 "nbformat": 4,
 "nbformat_minor": 2
}
