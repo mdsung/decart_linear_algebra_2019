{
 "cells": [
  {
   "cell_type": "markdown",
   "metadata": {},
   "source": [
    "# Patient Similarity\n",
    "\n",
    "In this notebook we will explore using vectors to represent patients based on their ICD9 codes and then use vector operations to compute similarity between patients. The vectors will typically be sparse so we will explore using \n",
    "dictionaries to represent sparse vectors."
   ]
  },
  {
   "cell_type": "code",
   "execution_count": null,
   "metadata": {},
   "outputs": [],
   "source": [
    "import pymysql\n",
    "import pandas as pd\n",
    "import getpass\n",
    "import pandas as pd\n",
    "import seaborn as sns\n",
    "import numpy as np\n",
    "from collections import defaultdict\n",
    "import itertools"
   ]
  },
  {
   "cell_type": "code",
   "execution_count": null,
   "metadata": {},
   "outputs": [],
   "source": [
    "#from myla.becsparsevec import *\n",
    "#from mylq.becvector import *\n",
    "from myla.becvectornp import *"
   ]
  },
  {
   "cell_type": "code",
   "execution_count": null,
   "metadata": {},
   "outputs": [],
   "source": [
    "conn = pymysql.connect(host=\"mysql\",\n",
    "                       port=3306,user=\"jovyan\",\n",
    "                       passwd=\"jovyan\",db='mimic2')\n",
    "cursor = conn.cursor()"
   ]
  },
  {
   "cell_type": "code",
   "execution_count": null,
   "metadata": {},
   "outputs": [],
   "source": [
    "pd.read_sql('SELECT * from icd9',conn).head()\n"
   ]
  },
  {
   "cell_type": "code",
   "execution_count": null,
   "metadata": {},
   "outputs": [],
   "source": [
    "icd9_codes = pd.read_sql('SELECT subject_id, code, description from icd9',conn)\n",
    "icd9_codes.head()"
   ]
  },
  {
   "cell_type": "markdown",
   "metadata": {},
   "source": [
    "### We need to ...\n",
    "\n",
    "1. get the unique ICD9 codes\n",
    "2. Create a vocabulary that maps a code to a dimension in our vector space.\n",
    "3. Create a map from the code to the description to make things more human friendly"
   ]
  },
  {
   "cell_type": "code",
   "execution_count": null,
   "metadata": {},
   "outputs": [],
   "source": [
    "icd9_codes.shape"
   ]
  },
  {
   "cell_type": "code",
   "execution_count": null,
   "metadata": {},
   "outputs": [],
   "source": [
    "voc_code = icd9_codes.code.unique()\n",
    "voc_code.sort()"
   ]
  },
  {
   "cell_type": "code",
   "execution_count": null,
   "metadata": {},
   "outputs": [],
   "source": [
    "len(voc_code)"
   ]
  },
  {
   "cell_type": "code",
   "execution_count": null,
   "metadata": {},
   "outputs": [],
   "source": [
    "code_map = dict(zip(icd9_codes.code, icd9_codes.description))\n",
    "len(code_map)"
   ]
  },
  {
   "cell_type": "code",
   "execution_count": null,
   "metadata": {},
   "outputs": [],
   "source": [
    "voc_map = dict((voc_code[i], i) for i in range(len(voc_code)))\n",
    "dim = len(voc_map)"
   ]
  },
  {
   "cell_type": "markdown",
   "metadata": {},
   "source": [
    "### Get a List of ICD9 codes for each patient"
   ]
  },
  {
   "cell_type": "code",
   "execution_count": null,
   "metadata": {},
   "outputs": [],
   "source": [
    "demo = defaultdict(list)\n",
    "demo"
   ]
  },
  {
   "cell_type": "code",
   "execution_count": null,
   "metadata": {},
   "outputs": [],
   "source": [
    "demo[\"Brian\"].append(\"Chapman\")\n",
    "demo"
   ]
  },
  {
   "cell_type": "code",
   "execution_count": null,
   "metadata": {},
   "outputs": [],
   "source": [
    "patients = defaultdict(list)\n",
    "for _,row in icd9_codes.iterrows():\n",
    "    patients[row[\"subject_id\"]].append(row[\"code\"])"
   ]
  },
  {
   "cell_type": "code",
   "execution_count": null,
   "metadata": {},
   "outputs": [],
   "source": [
    "min([len(patients[k]) for k in patients]),max([len(patients[k]) for k in patients]), np.mean([len(patients[k]) for k in patients])"
   ]
  },
  {
   "cell_type": "code",
   "execution_count": null,
   "metadata": {},
   "outputs": [],
   "source": [
    "def patient2vec(p, vmap):\n",
    "    \"\"\"\n",
    "    takes a patient p and a vocabulary vmap and returns a vector representation of p\n",
    "    \"\"\"\n",
    "    pv = zero(len(vmap))\n",
    "    for code in p:\n",
    "        pv[vmap[code]] += 1\n",
    "    return pv"
   ]
  },
  {
   "cell_type": "code",
   "execution_count": null,
   "metadata": {},
   "outputs": [],
   "source": [
    "type(patient2vec(patients[56], voc_map))"
   ]
  },
  {
   "cell_type": "code",
   "execution_count": null,
   "metadata": {},
   "outputs": [],
   "source": [
    "patient_vectors = {p:patient2vec(patients[p], voc_map) for p in patients}"
   ]
  },
  {
   "cell_type": "code",
   "execution_count": null,
   "metadata": {},
   "outputs": [],
   "source": [
    "norm(patient2vec(patients[56], voc_map))"
   ]
  },
  {
   "cell_type": "markdown",
   "metadata": {},
   "source": [
    "### Cosine Similarity\n",
    "One of the simplest ways of comparing two texts is with the [cosine similarity measure](https://en.wikipedia.org/wiki/Cosine_similarity). The sentences with the smallest angle between them are the most similar.\n",
    "\n",
    "![angle between two vectors](https://upload.wikimedia.org/wikipedia/commons/thumb/3/3e/Dot_Product.svg/200px-Dot_Product.svg.png)\n",
    "\n",
    "---------------\n",
    "\n",
    "$$\\cos{\\theta} = \\frac{\\vec{A}\\cdot\\vec{B}}{{\\left|\\left|\\vec{A}\\right|\\right|}{\\left|\\left|\\vec{B}\\right|\\right|}}$$\n",
    "    "
   ]
  },
  {
   "cell_type": "code",
   "execution_count": null,
   "metadata": {},
   "outputs": [],
   "source": [
    "\n",
    "import random\n",
    "def compute_similarities(patient_vectors, num=50):\n",
    "    similarities = {}\n",
    "    keys = list(patient_vectors.keys())\n",
    "    random.shuffle(keys)\n",
    "    use_keys = keys[:num]\n",
    "    for p1 in use_keys:\n",
    "        v1 = patient_vectors[p1]\n",
    "        for p2 in use_keys:\n",
    "            v2 = patient_vectors[p2]\n",
    "            similarities[(p1,p2)] = cos_sim(v1,v2)\n",
    "    return similarities"
   ]
  },
  {
   "cell_type": "code",
   "execution_count": null,
   "metadata": {},
   "outputs": [],
   "source": [
    "%timeit compute_similarities(patient_vectors, num=10)"
   ]
  },
  {
   "cell_type": "markdown",
   "metadata": {},
   "source": [
    "## Performance for each model\n",
    "\n",
    "```Python\n",
    "%timeit compute_similarities(patient_vectors, num=10)\n",
    "```\n",
    "####  Python List Vector\n",
    "\n",
    "`61.5 ms ± 688 µs per loop (mean ± std. dev. of 7 runs, 10 loops each)`\n",
    "\n",
    "#### Sparse Vector\n",
    "\n",
    "`6.56 ms ± 114 µs per loop (mean ± std. dev. of 7 runs, 100 loops each)`\n",
    "\n",
    "#### Numpy Vector\n",
    "\n",
    "`4.71 ms ± 43.7 µs per loop (mean ± std. dev. of 7 runs, 100 loops each)`"
   ]
  },
  {
   "cell_type": "code",
   "execution_count": null,
   "metadata": {},
   "outputs": [],
   "source": [
    "num=250\n",
    "sims = compute_similarities(patient_vectors, num=num)\n",
    "\n",
    "amap = dict(zip(set([k[0] for k in sims.keys()]), range(num)))\n",
    "\n",
    "sims_array = np.zeros((num,num))\n",
    "for key,val in sims.items():\n",
    "    sims_array[amap[key[0]],amap[key[1]]] = val\n",
    "sns.heatmap(sims_array)"
   ]
  },
  {
   "cell_type": "code",
   "execution_count": null,
   "metadata": {},
   "outputs": [],
   "source": [
    "sns.distplot(list(sims.values()))"
   ]
  },
  {
   "cell_type": "code",
   "execution_count": null,
   "metadata": {},
   "outputs": [],
   "source": []
  }
 ],
 "metadata": {
  "@webio": {
   "lastCommId": null,
   "lastKernelId": null
  },
  "kernelspec": {
   "display_name": "Python [default]",
   "language": "python",
   "name": "python3"
  },
  "language_info": {
   "codemirror_mode": {
    "name": "ipython",
    "version": 3
   },
   "file_extension": ".py",
   "mimetype": "text/x-python",
   "name": "python",
   "nbconvert_exporter": "python",
   "pygments_lexer": "ipython3",
   "version": "3.6.4"
  },
  "latex_envs": {
   "LaTeX_envs_menu_present": true,
   "autoclose": false,
   "autocomplete": true,
   "bibliofile": "biblio.bib",
   "cite_by": "apalike",
   "current_citInitial": 1,
   "eqLabelWithNumbers": true,
   "eqNumInitial": 1,
   "hotkeys": {
    "equation": "Ctrl-E",
    "itemize": "Ctrl-I"
   },
   "labels_anchors": false,
   "latex_user_defs": false,
   "report_style_numbering": false,
   "user_envs_cfg": false
  }
 },
 "nbformat": 4,
 "nbformat_minor": 2
}
